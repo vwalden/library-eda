{
 "cells": [
  {
   "cell_type": "code",
   "execution_count": 1,
   "id": "ca559a10",
   "metadata": {},
   "outputs": [],
   "source": [
    "# Dependencies & setup\n",
    "import pandas as pd\n",
    "import matplotlib.pyplot as plt\n",
    "import scipy.stats as st\n",
    "import numpy as np"
   ]
  },
  {
   "cell_type": "code",
   "execution_count": 2,
   "id": "2f17ee6b",
   "metadata": {},
   "outputs": [],
   "source": [
    "# Raw data files\n",
    "fy17state_path = \"data/PLS_FY17_State_pud17i.csv\"\n",
    "fy18state_path = \"data/pls_fy18_state_pud18i.csv\"\n",
    "fy19state_path = \"data/pls_state_pud19i.csv\"\n",
    "fy20state_path = \"data/PLS_FY20_State_pud20i.csv\"\n",
    "\n",
    "# Read data\n",
    "fy17state_raw_df = pd.read_csv(fy17state_path)\n",
    "fy18state_raw_df = pd.read_csv(fy18state_path)\n",
    "fy19state_raw_df = pd.read_csv(fy19state_path)\n",
    "fy20state_raw_df = pd.read_csv(fy20state_path)"
   ]
  },
  {
   "cell_type": "code",
   "execution_count": 3,
   "id": "783980bf",
   "metadata": {},
   "outputs": [],
   "source": [
    "# Slice state data\n",
    "fy17state_df = pd.DataFrame().assign(STABR=fy17state_raw_df['STABR'],\n",
    "                      STARTDAT=fy17state_raw_df['STARTDAT'], \n",
    "                      ENDDATE=fy17state_raw_df['ENDDATE'], \n",
    "                      POPU_LSA=fy17state_raw_df['POPU_LSA'], \n",
    "                      OBEREG=fy17state_raw_df['OBEREG'],\n",
    "                      TOTOPEXP=fy17state_raw_df['TOTOPEXP'], \n",
    "                      TOTINCM=fy17state_raw_df['TOTINCM'], \n",
    "                      PRMATEXP=fy17state_raw_df['PRMATEXP'], \n",
    "                      ELMATEXP=fy17state_raw_df['ELMATEXP'], \n",
    "                      OTHMATEX=fy17state_raw_df['OTHMATEX'], \n",
    "                      TOTEXPCO=fy17state_raw_df['TOTEXPCO'],                    \n",
    "                      TOTPRO=fy17state_raw_df['TOTPRO'], \n",
    "                      TOTATTEN=fy17state_raw_df['TOTATTEN'],\n",
    "                      VISITS=fy17state_raw_df['VISITS'], \n",
    "                      TOTCIR=fy17state_raw_df['TOTCIR'],\n",
    "                      ELMATCIR=fy17state_raw_df['ELMATCIR'], \n",
    "                      REGBOR=fy17state_raw_df['REGBOR'], \n",
    "                      ELCONT=fy17state_raw_df['ELCONT'])\n",
    "\n",
    "fy18state_df = pd.DataFrame().assign(STABR=fy18state_raw_df['STABR'],\n",
    "                      STARTDAT=fy18state_raw_df['STARTDAT'], \n",
    "                      ENDDATE=fy18state_raw_df['ENDDATE'], \n",
    "                      POPU_LSA=fy18state_raw_df['POPU_LSA'], \n",
    "                      OBEREG=fy18state_raw_df['OBEREG'],\n",
    "                      TOTOPEXP=fy18state_raw_df['TOTOPEXP'], \n",
    "                      TOTINCM=fy18state_raw_df['TOTINCM'], \n",
    "                      PRMATEXP=fy18state_raw_df['PRMATEXP'], \n",
    "                      ELMATEXP=fy18state_raw_df['ELMATEXP'], \n",
    "                      OTHMATEX=fy18state_raw_df['OTHMATEX'], \n",
    "                      TOTEXPCO=fy18state_raw_df['TOTEXPCO'],                    \n",
    "                      TOTPRO=fy18state_raw_df['TOTPRO'], \n",
    "                      TOTATTEN=fy18state_raw_df['TOTATTEN'],\n",
    "                      VISITS=fy18state_raw_df['VISITS'], \n",
    "                      TOTCIR=fy18state_raw_df['TOTCIR'],\n",
    "                      ELMATCIR=fy18state_raw_df['ELMATCIR'], \n",
    "                      REGBOR=fy18state_raw_df['REGBOR'], \n",
    "                      ELCONT=fy18state_raw_df['ELCONT'])\n",
    "\n",
    "fy19state_df = pd.DataFrame().assign(STABR=fy19state_raw_df['STABR'],\n",
    "                      STARTDAT=fy19state_raw_df['STARTDAT'], \n",
    "                      ENDDATE=fy19state_raw_df['ENDDATE'], \n",
    "                      POPU_LSA=fy19state_raw_df['POPU_LSA'], \n",
    "                      OBEREG=fy19state_raw_df['OBEREG'],\n",
    "                      TOTOPEXP=fy19state_raw_df['TOTOPEXP'], \n",
    "                      TOTINCM=fy19state_raw_df['TOTINCM'], \n",
    "                      PRMATEXP=fy19state_raw_df['PRMATEXP'], \n",
    "                      ELMATEXP=fy19state_raw_df['ELMATEXP'], \n",
    "                      OTHMATEX=fy19state_raw_df['OTHMATEX'], \n",
    "                      TOTEXPCO=fy19state_raw_df['TOTEXPCO'],                    \n",
    "                      TOTPRO=fy19state_raw_df['TOTPRO'], \n",
    "                      TOTATTEN=fy19state_raw_df['TOTATTEN'],\n",
    "                      VISITS=fy19state_raw_df['VISITS'], \n",
    "                      TOTCIR=fy19state_raw_df['TOTCIR'],\n",
    "                      ELMATCIR=fy19state_raw_df['ELMATCIR'], \n",
    "                      REGBOR=fy19state_raw_df['REGBOR'], \n",
    "                      ELCONT=fy19state_raw_df['ELCONT'])\n",
    "\n",
    "fy20state_df = pd.DataFrame().assign(STABR=fy20state_raw_df['STABR'],\n",
    "                      STARTDAT=fy20state_raw_df['STARTDAT'], \n",
    "                      ENDDATE=fy20state_raw_df['ENDDATE'], \n",
    "                      POPU_LSA=fy20state_raw_df['POPU_LSA'], \n",
    "                      OBEREG=fy20state_raw_df['OBEREG'],\n",
    "                      TOTOPEXP=fy20state_raw_df['TOTOPEXP'], \n",
    "                      TOTINCM=fy20state_raw_df['TOTINCM'], \n",
    "                      PRMATEXP=fy20state_raw_df['PRMATEXP'], \n",
    "                      ELMATEXP=fy20state_raw_df['ELMATEXP'], \n",
    "                      OTHMATEX=fy20state_raw_df['OTHMATEX'], \n",
    "                      TOTEXPCO=fy20state_raw_df['TOTEXPCO'],                    \n",
    "                      TOTPRO=fy20state_raw_df['TOTPRO'], \n",
    "                      TOTATTEN=fy20state_raw_df['TOTATTEN'],\n",
    "                      VISITS=fy20state_raw_df['VISITS'], \n",
    "                      TOTCIR=fy20state_raw_df['TOTCIR'],\n",
    "                      ELMATCIR=fy20state_raw_df['ELMATCIR'], \n",
    "                      REGBOR=fy20state_raw_df['REGBOR'], \n",
    "                      ELCONT=fy20state_raw_df['ELCONT'])"
   ]
  },
  {
   "cell_type": "code",
   "execution_count": 4,
   "id": "72feb206",
   "metadata": {},
   "outputs": [],
   "source": [
    "#Merge Dataframes\n",
    "merged_df = pd.concat([fy17state_df, fy18state_df, fy19state_df, fy20state_df])"
   ]
  },
  {
   "cell_type": "code",
   "execution_count": 6,
   "id": "94199e59",
   "metadata": {},
   "outputs": [],
   "source": [
    "# Remove US Territories\n",
    "no_terr_df = merged_df[(merged_df['OBEREG'] != 9)]\n",
    "no_terr17_df = fy17state_df[(fy17state_df['OBEREG'] != 9)]\n",
    "no_terr18_df = fy18state_df[(fy18state_df['OBEREG'] != 9)]\n",
    "no_terr19_df = fy19state_df[(fy19state_df['OBEREG'] != 9)]\n",
    "no_terr20_df = fy20state_df[(fy20state_df['OBEREG'] != 9)]\n",
    "\n",
    "# Reset Index\n",
    "no_terr_df = no_terr_df.reset_index(drop=True)\n",
    "no_terr17_df = no_terr17_df.reset_index(drop=True)\n",
    "no_terr18_df = no_terr18_df.reset_index(drop=True)\n",
    "no_terr19_df = no_terr19_df.reset_index(drop=True)\n",
    "no_terr20_df = no_terr20_df.reset_index(drop=True)"
   ]
  },
  {
   "cell_type": "code",
   "execution_count": 7,
   "id": "445522b6",
   "metadata": {},
   "outputs": [],
   "source": [
    "# Create the five US Census Regional groups\n",
    "    # 01–New England (CT ME MA NH RI VT) + 02–Mid East (DE DC MD NJ NY PA)\n",
    "    # 03–Great Lakes (IL IN MI OH WI) + 04–Plains (IA KS MN MO NE ND SC)\n",
    "    # 05–Southeast (AL AR FL GA KY LA MS NC SC TN VA WV)\n",
    "    # 06–Southwest (AZ NM OK TX)\n",
    "    # 07–Rocky Mountains (CO ID MT UT WY) + 08–Far West (AK CA HI NV OR WA)\n",
    "\n",
    "no_terr_df['OBEREG'] = no_terr_df['OBEREG'].replace([1,2,3,4,5,6,7,8],['Northeast','Northeast','Midwest','Midwest','Southeast','Southwest','West','West'])\n",
    "no_terr17_df['OBEREG'] = no_terr17_df['OBEREG'].replace([1,2,3,4,5,6,7,8],['Northeast','Northeast','Midwest','Midwest','Southeast','Southwest','West','West'])\n",
    "no_terr18_df['OBEREG'] = no_terr18_df['OBEREG'].replace([1,2,3,4,5,6,7,8],['Northeast','Northeast','Midwest','Midwest','Southeast','Southwest','West','West'])\n",
    "no_terr19_df['OBEREG'] = no_terr19_df['OBEREG'].replace([1,2,3,4,5,6,7,8],['Northeast','Northeast','Midwest','Midwest','Southeast','Southwest','West','West'])\n",
    "no_terr20_df['OBEREG'] = no_terr20_df['OBEREG'].replace([1,2,3,4,5,6,7,8],['Northeast','Northeast','Midwest','Midwest','Southeast','Southwest','West','West'])"
   ]
  },
  {
   "cell_type": "code",
   "execution_count": 31,
   "id": "a33f4dad",
   "metadata": {
    "scrolled": true
   },
   "outputs": [
    {
     "data": {
      "text/plain": [
       "OBEREG\n",
       "Midwest      65540418\n",
       "Northeast    65041932\n",
       "Southeast    82696409\n",
       "Southwest    41418005\n",
       "West         67054683\n",
       "Name: POPU_LSA, dtype: int64"
      ]
     },
     "execution_count": 31,
     "metadata": {},
     "output_type": "execute_result"
    }
   ],
   "source": [
    "# Set Regions as index with column for total LSA population\n",
    "region_pop = no_terr_df.groupby([\"OBEREG\"]).sum()[\"POPU_LSA\"]\n",
    "region_pop17 = no_terr17_df.groupby([\"OBEREG\"]).sum()[\"POPU_LSA\"]\n",
    "region_pop18 = no_terr18_df.groupby([\"OBEREG\"]).sum()[\"POPU_LSA\"]\n",
    "region_pop19 = no_terr19_df.groupby([\"OBEREG\"]).sum()[\"POPU_LSA\"]\n",
    "region_pop20 = no_terr20_df.groupby([\"OBEREG\"]).sum()[\"POPU_LSA\"]"
   ]
  },
  {
   "cell_type": "code",
   "execution_count": 9,
   "id": "90c7fce3",
   "metadata": {},
   "outputs": [],
   "source": [
    "# Get the average budget for each region\n",
    "per_region_budget = no_terr_df.groupby(['OBEREG']).mean()['TOTOPEXP']\n",
    "per_region_budget17 = no_terr17_df.groupby(['OBEREG']).mean()['TOTOPEXP']\n",
    "per_region_budget18 = no_terr18_df.groupby(['OBEREG']).mean()['TOTOPEXP']\n",
    "per_region_budget19 = no_terr19_df.groupby(['OBEREG']).mean()['TOTOPEXP']\n",
    "per_region_budget20 = no_terr20_df.groupby(['OBEREG']).mean()['TOTOPEXP']"
   ]
  },
  {
   "cell_type": "code",
   "execution_count": 19,
   "id": "9b716d38",
   "metadata": {},
   "outputs": [],
   "source": [
    "# Calculate per capita expenditures\n",
    "percapex = per_region_budget / region_pop\n",
    "percapex17 = per_region_budget17 / region_pop17\n",
    "percapex18 = per_region_budget18 / region_pop18\n",
    "percapex19 = per_region_budget19 / region_pop19\n",
    "percapex20 = per_region_budget20 / region_pop20"
   ]
  },
  {
   "cell_type": "code",
   "execution_count": 30,
   "id": "cc46f873",
   "metadata": {},
   "outputs": [
    {
     "ename": "KeyError",
     "evalue": "'Midwest'",
     "output_type": "error",
     "traceback": [
      "\u001b[1;31m-----------------------------------------------------------\u001b[0m",
      "\u001b[1;31mKeyError\u001b[0m                  Traceback (most recent call last)",
      "\u001b[1;32m~\\AppData\\Local\\Temp\\ipykernel_16516\\1519186915.py\u001b[0m in \u001b[0;36m<module>\u001b[1;34m\u001b[0m\n\u001b[0;32m     15\u001b[0m \u001b[1;33m\u001b[0m\u001b[0m\n\u001b[0;32m     16\u001b[0m \u001b[1;31m#Convert data to float\u001b[0m\u001b[1;33m\u001b[0m\u001b[1;33m\u001b[0m\u001b[0m\n\u001b[1;32m---> 17\u001b[1;33m \u001b[0mpercapex2\u001b[0m \u001b[1;33m=\u001b[0m \u001b[0mpercapex2\u001b[0m\u001b[1;33m[\u001b[0m\u001b[1;34m'Midwest'\u001b[0m\u001b[1;33m]\u001b[0m\u001b[1;33m.\u001b[0m\u001b[0mastype\u001b[0m\u001b[1;33m(\u001b[0m\u001b[1;34m'float64'\u001b[0m\u001b[1;33m)\u001b[0m\u001b[1;33m\u001b[0m\u001b[1;33m\u001b[0m\u001b[0m\n\u001b[0m\u001b[0;32m     18\u001b[0m \u001b[0mpercapex2\u001b[0m \u001b[1;33m=\u001b[0m \u001b[0mpercapex2\u001b[0m\u001b[1;33m[\u001b[0m\u001b[1;34m'Northeast'\u001b[0m\u001b[1;33m]\u001b[0m\u001b[1;33m.\u001b[0m\u001b[0mastype\u001b[0m\u001b[1;33m(\u001b[0m\u001b[1;34m'float64'\u001b[0m\u001b[1;33m)\u001b[0m\u001b[1;33m\u001b[0m\u001b[1;33m\u001b[0m\u001b[0m\n\u001b[0;32m     19\u001b[0m \u001b[0mpercapex2\u001b[0m \u001b[1;33m=\u001b[0m \u001b[0mpercapex2\u001b[0m\u001b[1;33m[\u001b[0m\u001b[1;34m'Southeast'\u001b[0m\u001b[1;33m]\u001b[0m\u001b[1;33m.\u001b[0m\u001b[0mastype\u001b[0m\u001b[1;33m(\u001b[0m\u001b[1;34m'float64'\u001b[0m\u001b[1;33m)\u001b[0m\u001b[1;33m\u001b[0m\u001b[1;33m\u001b[0m\u001b[0m\n",
      "\u001b[1;32m~\\anaconda3\\lib\\site-packages\\pandas\\core\\frame.py\u001b[0m in \u001b[0;36m__getitem__\u001b[1;34m(self, key)\u001b[0m\n\u001b[0;32m   3503\u001b[0m             \u001b[1;32mif\u001b[0m \u001b[0mself\u001b[0m\u001b[1;33m.\u001b[0m\u001b[0mcolumns\u001b[0m\u001b[1;33m.\u001b[0m\u001b[0mnlevels\u001b[0m \u001b[1;33m>\u001b[0m \u001b[1;36m1\u001b[0m\u001b[1;33m:\u001b[0m\u001b[1;33m\u001b[0m\u001b[1;33m\u001b[0m\u001b[0m\n\u001b[0;32m   3504\u001b[0m                 \u001b[1;32mreturn\u001b[0m \u001b[0mself\u001b[0m\u001b[1;33m.\u001b[0m\u001b[0m_getitem_multilevel\u001b[0m\u001b[1;33m(\u001b[0m\u001b[0mkey\u001b[0m\u001b[1;33m)\u001b[0m\u001b[1;33m\u001b[0m\u001b[1;33m\u001b[0m\u001b[0m\n\u001b[1;32m-> 3505\u001b[1;33m             \u001b[0mindexer\u001b[0m \u001b[1;33m=\u001b[0m \u001b[0mself\u001b[0m\u001b[1;33m.\u001b[0m\u001b[0mcolumns\u001b[0m\u001b[1;33m.\u001b[0m\u001b[0mget_loc\u001b[0m\u001b[1;33m(\u001b[0m\u001b[0mkey\u001b[0m\u001b[1;33m)\u001b[0m\u001b[1;33m\u001b[0m\u001b[1;33m\u001b[0m\u001b[0m\n\u001b[0m\u001b[0;32m   3506\u001b[0m             \u001b[1;32mif\u001b[0m \u001b[0mis_integer\u001b[0m\u001b[1;33m(\u001b[0m\u001b[0mindexer\u001b[0m\u001b[1;33m)\u001b[0m\u001b[1;33m:\u001b[0m\u001b[1;33m\u001b[0m\u001b[1;33m\u001b[0m\u001b[0m\n\u001b[0;32m   3507\u001b[0m                 \u001b[0mindexer\u001b[0m \u001b[1;33m=\u001b[0m \u001b[1;33m[\u001b[0m\u001b[0mindexer\u001b[0m\u001b[1;33m]\u001b[0m\u001b[1;33m\u001b[0m\u001b[1;33m\u001b[0m\u001b[0m\n",
      "\u001b[1;32m~\\anaconda3\\lib\\site-packages\\pandas\\core\\indexes\\range.py\u001b[0m in \u001b[0;36mget_loc\u001b[1;34m(self, key, method, tolerance)\u001b[0m\n\u001b[0;32m    387\u001b[0m                     \u001b[1;32mraise\u001b[0m \u001b[0mKeyError\u001b[0m\u001b[1;33m(\u001b[0m\u001b[0mkey\u001b[0m\u001b[1;33m)\u001b[0m \u001b[1;32mfrom\u001b[0m \u001b[0merr\u001b[0m\u001b[1;33m\u001b[0m\u001b[1;33m\u001b[0m\u001b[0m\n\u001b[0;32m    388\u001b[0m             \u001b[0mself\u001b[0m\u001b[1;33m.\u001b[0m\u001b[0m_check_indexing_error\u001b[0m\u001b[1;33m(\u001b[0m\u001b[0mkey\u001b[0m\u001b[1;33m)\u001b[0m\u001b[1;33m\u001b[0m\u001b[1;33m\u001b[0m\u001b[0m\n\u001b[1;32m--> 389\u001b[1;33m             \u001b[1;32mraise\u001b[0m \u001b[0mKeyError\u001b[0m\u001b[1;33m(\u001b[0m\u001b[0mkey\u001b[0m\u001b[1;33m)\u001b[0m\u001b[1;33m\u001b[0m\u001b[1;33m\u001b[0m\u001b[0m\n\u001b[0m\u001b[0;32m    390\u001b[0m         \u001b[1;32mreturn\u001b[0m \u001b[0msuper\u001b[0m\u001b[1;33m(\u001b[0m\u001b[1;33m)\u001b[0m\u001b[1;33m.\u001b[0m\u001b[0mget_loc\u001b[0m\u001b[1;33m(\u001b[0m\u001b[0mkey\u001b[0m\u001b[1;33m,\u001b[0m \u001b[0mmethod\u001b[0m\u001b[1;33m=\u001b[0m\u001b[0mmethod\u001b[0m\u001b[1;33m,\u001b[0m \u001b[0mtolerance\u001b[0m\u001b[1;33m=\u001b[0m\u001b[0mtolerance\u001b[0m\u001b[1;33m)\u001b[0m\u001b[1;33m\u001b[0m\u001b[1;33m\u001b[0m\u001b[0m\n\u001b[0;32m    391\u001b[0m \u001b[1;33m\u001b[0m\u001b[0m\n",
      "\u001b[1;31mKeyError\u001b[0m: 'Midwest'"
     ]
    }
   ],
   "source": [
    "percapex_summary_df = pd.DataFrame({'Region': ['Midwest', 'Northeast', 'Southeast', 'Southwest', 'West'],\n",
    "                                   '2017 Per Capita Expenditures': [4.18, 4.12, 2.19, 5.40, 3.83],\n",
    "                                   '2018 Per Capita Expenditures': [4.30, 4.23, 2.24, 5.51, 4.15],\n",
    "                                   '2019 Per Capita Expenditures': [4.42, 4.34, 2.30, 5.60, 4.30],\n",
    "                                   '2020 Per Capita Expenditures': [4.35, 4.24, 2.30, 5.57, 4.19],})\n",
    "\n",
    "# Formatting, Convert series to Float\n",
    "percapex_summary_df[\"2017 Per Capita Expenditures\"] = percapex_summary_df[\"2017 Per Capita Expenditures\"].map(\"{:.2f}\".format).astype(float)\n",
    "percapex_summary_df[\"2018 Per Capita Expenditures\"] = percapex_summary_df[\"2018 Per Capita Expenditures\"].map(\"{:.2f}\".format).astype(float)\n",
    "percapex_summary_df[\"2019 Per Capita Expenditures\"] = percapex_summary_df[\"2019 Per Capita Expenditures\"].map(\"{:.2f}\".format).astype(float)\n",
    "percapex_summary_df[\"2020 Per Capita Expenditures\"] = percapex_summary_df[\"2020 Per Capita Expenditures\"].map(\"{:.2f}\".format).astype(float)\n",
    "\n",
    "# Display results\n",
    "percapex2 = percapex_summary_df.transpose()\n",
    "\n",
    "#Convert data to float\n",
    "percapex2 = percapex2['Midwest'].astype('float64')\n",
    "percapex2 = percapex2['Northeast'].astype('float64')\n",
    "percapex2 = percapex2['Southeast'].astype('float64')\n",
    "percapex2 = percapex2['Southwest'].astype('float64')\n",
    "percapex2 = percapex2['West'].astype('float64')\n",
    "\n",
    "# Display results\n",
    "percapex2.dtypes"
   ]
  },
  {
   "cell_type": "code",
   "execution_count": 27,
   "id": "15335c3f",
   "metadata": {},
   "outputs": [
    {
     "ename": "TypeError",
     "evalue": "no numeric data to plot",
     "output_type": "error",
     "traceback": [
      "\u001b[1;31m-----------------------------------------------------------\u001b[0m",
      "\u001b[1;31mTypeError\u001b[0m                 Traceback (most recent call last)",
      "\u001b[1;32m~\\AppData\\Local\\Temp\\ipykernel_16516\\3859780927.py\u001b[0m in \u001b[0;36m<module>\u001b[1;34m\u001b[0m\n\u001b[0;32m      1\u001b[0m \u001b[1;31m# Generate bar chart comparing the population by total budget (per capita view across regions)\u001b[0m\u001b[1;33m\u001b[0m\u001b[1;33m\u001b[0m\u001b[0m\n\u001b[1;32m----> 2\u001b[1;33m \u001b[0mpercapex2\u001b[0m\u001b[1;33m.\u001b[0m\u001b[0mplot\u001b[0m\u001b[1;33m(\u001b[0m\u001b[1;33m)\u001b[0m\u001b[1;33m\u001b[0m\u001b[1;33m\u001b[0m\u001b[0m\n\u001b[0m\u001b[0;32m      3\u001b[0m \u001b[1;33m\u001b[0m\u001b[0m\n\u001b[0;32m      4\u001b[0m \u001b[1;31m# Format the chart\u001b[0m\u001b[1;33m\u001b[0m\u001b[1;33m\u001b[0m\u001b[0m\n\u001b[0;32m      5\u001b[0m \u001b[0mplt\u001b[0m\u001b[1;33m.\u001b[0m\u001b[0mtitle\u001b[0m\u001b[1;33m(\u001b[0m\u001b[1;34m\"Per Capita Library Expenditures (2017-2020)\"\u001b[0m\u001b[1;33m,\u001b[0m \u001b[0msize\u001b[0m\u001b[1;33m=\u001b[0m\u001b[1;36m13\u001b[0m\u001b[1;33m,\u001b[0m\u001b[0mfontweight\u001b[0m\u001b[1;33m=\u001b[0m\u001b[1;34m\"bold\"\u001b[0m\u001b[1;33m)\u001b[0m\u001b[1;33m\u001b[0m\u001b[1;33m\u001b[0m\u001b[0m\n",
      "\u001b[1;32m~\\anaconda3\\lib\\site-packages\\pandas\\plotting\\_core.py\u001b[0m in \u001b[0;36m__call__\u001b[1;34m(self, *args, **kwargs)\u001b[0m\n\u001b[0;32m    970\u001b[0m                     \u001b[0mdata\u001b[0m\u001b[1;33m.\u001b[0m\u001b[0mcolumns\u001b[0m \u001b[1;33m=\u001b[0m \u001b[0mlabel_name\u001b[0m\u001b[1;33m\u001b[0m\u001b[1;33m\u001b[0m\u001b[0m\n\u001b[0;32m    971\u001b[0m \u001b[1;33m\u001b[0m\u001b[0m\n\u001b[1;32m--> 972\u001b[1;33m         \u001b[1;32mreturn\u001b[0m \u001b[0mplot_backend\u001b[0m\u001b[1;33m.\u001b[0m\u001b[0mplot\u001b[0m\u001b[1;33m(\u001b[0m\u001b[0mdata\u001b[0m\u001b[1;33m,\u001b[0m \u001b[0mkind\u001b[0m\u001b[1;33m=\u001b[0m\u001b[0mkind\u001b[0m\u001b[1;33m,\u001b[0m \u001b[1;33m**\u001b[0m\u001b[0mkwargs\u001b[0m\u001b[1;33m)\u001b[0m\u001b[1;33m\u001b[0m\u001b[1;33m\u001b[0m\u001b[0m\n\u001b[0m\u001b[0;32m    973\u001b[0m \u001b[1;33m\u001b[0m\u001b[0m\n\u001b[0;32m    974\u001b[0m     \u001b[0m__call__\u001b[0m\u001b[1;33m.\u001b[0m\u001b[0m__doc__\u001b[0m \u001b[1;33m=\u001b[0m \u001b[0m__doc__\u001b[0m\u001b[1;33m\u001b[0m\u001b[1;33m\u001b[0m\u001b[0m\n",
      "\u001b[1;32m~\\anaconda3\\lib\\site-packages\\pandas\\plotting\\_matplotlib\\__init__.py\u001b[0m in \u001b[0;36mplot\u001b[1;34m(data, kind, **kwargs)\u001b[0m\n\u001b[0;32m     69\u001b[0m             \u001b[0mkwargs\u001b[0m\u001b[1;33m[\u001b[0m\u001b[1;34m\"ax\"\u001b[0m\u001b[1;33m]\u001b[0m \u001b[1;33m=\u001b[0m \u001b[0mgetattr\u001b[0m\u001b[1;33m(\u001b[0m\u001b[0max\u001b[0m\u001b[1;33m,\u001b[0m \u001b[1;34m\"left_ax\"\u001b[0m\u001b[1;33m,\u001b[0m \u001b[0max\u001b[0m\u001b[1;33m)\u001b[0m\u001b[1;33m\u001b[0m\u001b[1;33m\u001b[0m\u001b[0m\n\u001b[0;32m     70\u001b[0m     \u001b[0mplot_obj\u001b[0m \u001b[1;33m=\u001b[0m \u001b[0mPLOT_CLASSES\u001b[0m\u001b[1;33m[\u001b[0m\u001b[0mkind\u001b[0m\u001b[1;33m]\u001b[0m\u001b[1;33m(\u001b[0m\u001b[0mdata\u001b[0m\u001b[1;33m,\u001b[0m \u001b[1;33m**\u001b[0m\u001b[0mkwargs\u001b[0m\u001b[1;33m)\u001b[0m\u001b[1;33m\u001b[0m\u001b[1;33m\u001b[0m\u001b[0m\n\u001b[1;32m---> 71\u001b[1;33m     \u001b[0mplot_obj\u001b[0m\u001b[1;33m.\u001b[0m\u001b[0mgenerate\u001b[0m\u001b[1;33m(\u001b[0m\u001b[1;33m)\u001b[0m\u001b[1;33m\u001b[0m\u001b[1;33m\u001b[0m\u001b[0m\n\u001b[0m\u001b[0;32m     72\u001b[0m     \u001b[0mplot_obj\u001b[0m\u001b[1;33m.\u001b[0m\u001b[0mdraw\u001b[0m\u001b[1;33m(\u001b[0m\u001b[1;33m)\u001b[0m\u001b[1;33m\u001b[0m\u001b[1;33m\u001b[0m\u001b[0m\n\u001b[0;32m     73\u001b[0m     \u001b[1;32mreturn\u001b[0m \u001b[0mplot_obj\u001b[0m\u001b[1;33m.\u001b[0m\u001b[0mresult\u001b[0m\u001b[1;33m\u001b[0m\u001b[1;33m\u001b[0m\u001b[0m\n",
      "\u001b[1;32m~\\anaconda3\\lib\\site-packages\\pandas\\plotting\\_matplotlib\\core.py\u001b[0m in \u001b[0;36mgenerate\u001b[1;34m(self)\u001b[0m\n\u001b[0;32m    325\u001b[0m     \u001b[1;32mdef\u001b[0m \u001b[0mgenerate\u001b[0m\u001b[1;33m(\u001b[0m\u001b[0mself\u001b[0m\u001b[1;33m)\u001b[0m\u001b[1;33m:\u001b[0m\u001b[1;33m\u001b[0m\u001b[1;33m\u001b[0m\u001b[0m\n\u001b[0;32m    326\u001b[0m         \u001b[0mself\u001b[0m\u001b[1;33m.\u001b[0m\u001b[0m_args_adjust\u001b[0m\u001b[1;33m(\u001b[0m\u001b[1;33m)\u001b[0m\u001b[1;33m\u001b[0m\u001b[1;33m\u001b[0m\u001b[0m\n\u001b[1;32m--> 327\u001b[1;33m         \u001b[0mself\u001b[0m\u001b[1;33m.\u001b[0m\u001b[0m_compute_plot_data\u001b[0m\u001b[1;33m(\u001b[0m\u001b[1;33m)\u001b[0m\u001b[1;33m\u001b[0m\u001b[1;33m\u001b[0m\u001b[0m\n\u001b[0m\u001b[0;32m    328\u001b[0m         \u001b[0mself\u001b[0m\u001b[1;33m.\u001b[0m\u001b[0m_setup_subplots\u001b[0m\u001b[1;33m(\u001b[0m\u001b[1;33m)\u001b[0m\u001b[1;33m\u001b[0m\u001b[1;33m\u001b[0m\u001b[0m\n\u001b[0;32m    329\u001b[0m         \u001b[0mself\u001b[0m\u001b[1;33m.\u001b[0m\u001b[0m_make_plot\u001b[0m\u001b[1;33m(\u001b[0m\u001b[1;33m)\u001b[0m\u001b[1;33m\u001b[0m\u001b[1;33m\u001b[0m\u001b[0m\n",
      "\u001b[1;32m~\\anaconda3\\lib\\site-packages\\pandas\\plotting\\_matplotlib\\core.py\u001b[0m in \u001b[0;36m_compute_plot_data\u001b[1;34m(self)\u001b[0m\n\u001b[0;32m    504\u001b[0m         \u001b[1;31m# no non-numeric frames or series allowed\u001b[0m\u001b[1;33m\u001b[0m\u001b[1;33m\u001b[0m\u001b[0m\n\u001b[0;32m    505\u001b[0m         \u001b[1;32mif\u001b[0m \u001b[0mis_empty\u001b[0m\u001b[1;33m:\u001b[0m\u001b[1;33m\u001b[0m\u001b[1;33m\u001b[0m\u001b[0m\n\u001b[1;32m--> 506\u001b[1;33m             \u001b[1;32mraise\u001b[0m \u001b[0mTypeError\u001b[0m\u001b[1;33m(\u001b[0m\u001b[1;34m\"no numeric data to plot\"\u001b[0m\u001b[1;33m)\u001b[0m\u001b[1;33m\u001b[0m\u001b[1;33m\u001b[0m\u001b[0m\n\u001b[0m\u001b[0;32m    507\u001b[0m \u001b[1;33m\u001b[0m\u001b[0m\n\u001b[0;32m    508\u001b[0m         \u001b[0mself\u001b[0m\u001b[1;33m.\u001b[0m\u001b[0mdata\u001b[0m \u001b[1;33m=\u001b[0m \u001b[0mnumeric_data\u001b[0m\u001b[1;33m.\u001b[0m\u001b[0mapply\u001b[0m\u001b[1;33m(\u001b[0m\u001b[0mself\u001b[0m\u001b[1;33m.\u001b[0m\u001b[0m_convert_to_ndarray\u001b[0m\u001b[1;33m)\u001b[0m\u001b[1;33m\u001b[0m\u001b[1;33m\u001b[0m\u001b[0m\n",
      "\u001b[1;31mTypeError\u001b[0m: no numeric data to plot"
     ]
    }
   ],
   "source": [
    "# Generate bar chart comparing the population by total budget (per capita view across regions)\n",
    "percapex2.plot()\n",
    "     \n",
    "# Format the chart\n",
    "plt.title(\"Per Capita Library Expenditures (2017-2020)\", size=13,fontweight=\"bold\")\n",
    "plt.xlabel(\"Years\", fontweight=\"bold\")\n",
    "plt.ylabel(\"Per Capita Expenditures ($)\", fontweight=\"bold\")\n",
    "     \n",
    "# Visualize the plot\n",
    "plt.show()"
   ]
  },
  {
   "cell_type": "code",
   "execution_count": null,
   "id": "2e6fd50b",
   "metadata": {},
   "outputs": [],
   "source": []
  },
  {
   "cell_type": "code",
   "execution_count": null,
   "id": "bbde926b",
   "metadata": {},
   "outputs": [],
   "source": []
  }
 ],
 "metadata": {
  "kernelspec": {
   "display_name": "Python 3 (ipykernel)",
   "language": "python",
   "name": "python3"
  },
  "language_info": {
   "codemirror_mode": {
    "name": "ipython",
    "version": 3
   },
   "file_extension": ".py",
   "mimetype": "text/x-python",
   "name": "python",
   "nbconvert_exporter": "python",
   "pygments_lexer": "ipython3",
   "version": "3.9.13"
  }
 },
 "nbformat": 4,
 "nbformat_minor": 5
}
